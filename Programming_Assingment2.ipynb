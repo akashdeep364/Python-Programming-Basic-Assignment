{
 "cells": [
  {
   "cell_type": "markdown",
   "metadata": {},
   "source": [
    "# Programming_Assingment2"
   ]
  },
  {
   "cell_type": "markdown",
   "metadata": {},
   "source": [
    "### 1. Write a Python program to convert kilometers to miles?"
   ]
  },
  {
   "cell_type": "code",
   "execution_count": 2,
   "metadata": {},
   "outputs": [
    {
     "name": "stdout",
     "output_type": "stream",
     "text": [
      "Enter kilometers :56.3\n",
      "56.300 kilometers is equal to 34.962 miles\n"
     ]
    }
   ],
   "source": [
    "kilometers = float(input(\"Enter kilometers :\"))\n",
    "conversionUnit = 0.621\n",
    "miles = kilometers * conversionUnit\n",
    "print(\"%0.3f kilometers is equal to %0.3f miles\"%(kilometers,miles))"
   ]
  },
  {
   "cell_type": "markdown",
   "metadata": {},
   "source": [
    "## 2. Write a Python program to convert Celsius to Fahrenheit?"
   ]
  },
  {
   "cell_type": "code",
   "execution_count": 3,
   "metadata": {},
   "outputs": [
    {
     "name": "stdout",
     "output_type": "stream",
     "text": [
      "Celsius : 45.6\n",
      "45.60 celsius is 114.08 fahrenheit\n"
     ]
    }
   ],
   "source": [
    "# Fahrenheit = celsius *(9/5) + 32\n",
    "\n",
    "celsius = float(input(\"Celsius : \"))\n",
    "fahrenheit = 9/5 * celsius + 32\n",
    "print(\"%0.2f celsius is %0.2f fahrenheit\"%(celsius,fahrenheit))"
   ]
  },
  {
   "cell_type": "markdown",
   "metadata": {},
   "source": [
    "## 3. Write a Python program to display calendar?"
   ]
  },
  {
   "cell_type": "code",
   "execution_count": 9,
   "metadata": {},
   "outputs": [
    {
     "name": "stdout",
     "output_type": "stream",
     "text": [
      " Enter Year : 2021\n",
      "Enter Month : 4\n",
      "Calender\n",
      "     April 2021\n",
      "Mo Tu We Th Fr Sa Su\n",
      "          1  2  3  4\n",
      " 5  6  7  8  9 10 11\n",
      "12 13 14 15 16 17 18\n",
      "19 20 21 22 23 24 25\n",
      "26 27 28 29 30\n",
      "\n"
     ]
    }
   ],
   "source": [
    "import calendar\n",
    "\n",
    "y = int(input(\" Enter Year : \"))\n",
    "m = int(input(\"Enter Month : \"))\n",
    "\n",
    "try :\n",
    "    print(\"Calender\")\n",
    "    print(calendar.month(y,m))\n",
    "except:\n",
    "    print(\"Out of range\")"
   ]
  },
  {
   "cell_type": "markdown",
   "metadata": {},
   "source": [
    "## 4. Write a Python program to solve quadratic equation?\n",
    "    - quadratic equation ax^2+bx+c=0\n",
    "    a, b, c\t=\tknown numbers, where a ≠ 0\n",
    "    x\t=\tthe unknown\n",
    "    - descriminant = b**2 - (4* a * c)\n",
    "    - x1 = (-b-sqrt(d))/2 , x2 = (b-sqrt(d))/2"
   ]
  },
  {
   "cell_type": "code",
   "execution_count": 4,
   "metadata": {},
   "outputs": [
    {
     "name": "stdout",
     "output_type": "stream",
     "text": [
      " Enter value of a : 2\n",
      " Enter value of b : 4\n",
      " Enter value of c : 8\n",
      "The roots are\n",
      "(-1-1.7320508075688772j)\n",
      "(-1+1.7320508075688772j)\n"
     ]
    }
   ],
   "source": [
    "# import complex math module\n",
    "import cmath\n",
    "  \n",
    "\n",
    "a = int(input(\" Enter value of a : \"))\n",
    "b = int(input(\" Enter value of b : \"))\n",
    "c = int(input(\" Enter value of c : \"))\n",
    "# calculating  the discriminant\n",
    "dis = (b**2) - (4 * a*c)\n",
    "  \n",
    "# find two results\n",
    "x1 = (-b-cmath.sqrt(dis))/(2 * a)\n",
    "x2 = (-b + cmath.sqrt(dis))/(2 * a)\n",
    "  \n",
    "# printing the results\n",
    "print('The roots are')\n",
    "print(x1)\n",
    "print(x2)"
   ]
  },
  {
   "cell_type": "markdown",
   "metadata": {},
   "source": [
    "## 5. Write a Python program to swap two variables without temp variable?"
   ]
  },
  {
   "cell_type": "code",
   "execution_count": 25,
   "metadata": {},
   "outputs": [
    {
     "name": "stdout",
     "output_type": "stream",
     "text": [
      "Num1 : 4\n",
      "Num2 : 5\n",
      "Before swaping x = 4, y = 5\n",
      "After swaping x = 5, y = 4\n"
     ]
    }
   ],
   "source": [
    "x = int(input(\"Num1 : \"))\n",
    "y = int(input(\"Num2 : \"))\n",
    "print(\"Before swaping x = {}, y = {}\".format(x,y))\n",
    "#swaping :)\n",
    "y,x = x,y\n",
    "print(\"After swaping x = {}, y = {}\".format(x,y))"
   ]
  }
 ],
 "metadata": {
  "kernelspec": {
   "display_name": "Python 3",
   "language": "python",
   "name": "python3"
  },
  "language_info": {
   "codemirror_mode": {
    "name": "ipython",
    "version": 3
   },
   "file_extension": ".py",
   "mimetype": "text/x-python",
   "name": "python",
   "nbconvert_exporter": "python",
   "pygments_lexer": "ipython3",
   "version": "3.8.8"
  }
 },
 "nbformat": 4,
 "nbformat_minor": 4
}
