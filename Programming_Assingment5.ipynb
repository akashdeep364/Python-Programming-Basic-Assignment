{
 "cells": [
  {
   "cell_type": "markdown",
   "metadata": {},
   "source": [
    "# Programming_Assingment5"
   ]
  },
  {
   "cell_type": "markdown",
   "metadata": {},
   "source": [
    "### 1. Write a Python Program to Find LCM?\n"
   ]
  },
  {
   "cell_type": "code",
   "execution_count": 1,
   "metadata": {},
   "outputs": [
    {
     "name": "stdout",
     "output_type": "stream",
     "text": [
      "Enter num1 : 10\n",
      "Enter num1 : 5\n",
      "The LCM of 10 and 5 is 10\n"
     ]
    }
   ],
   "source": [
    "# LCM: Least Common Multiple/ Lowest Common Multiple\n",
    "# It is the smallest positive integer that is divisible by both \"a\" and \"b\"\n",
    "\n",
    "a = int(input(\"Enter num1 : \"))\n",
    "b = int(input(\"Enter num1 : \"))\n",
    "\n",
    "# lets find biggest number\n",
    "if a > b:\n",
    "    bigger = a\n",
    "else:\n",
    "    bigger = b\n",
    "    \n",
    "while(True):\n",
    "    if bigger % a == 0 and bigger % b == 0 :\n",
    "        lcm = bigger\n",
    "        break\n",
    "    bigger+=1\n",
    "    \n",
    "print(\"The LCM of {} and {} is {}\".format(a,b,lcm))\n",
    "        "
   ]
  },
  {
   "cell_type": "markdown",
   "metadata": {},
   "source": [
    "### 2. Write a Python Program to Find HCF?\n"
   ]
  },
  {
   "cell_type": "code",
   "execution_count": 2,
   "metadata": {},
   "outputs": [
    {
     "name": "stdout",
     "output_type": "stream",
     "text": [
      "Enter num1 : 15\n",
      "Enter num1 : 20\n",
      "The hcf of 15 and 20 is 5\n"
     ]
    }
   ],
   "source": [
    "# HCF: Highest Common Factor\n",
    "# is the largest positive integer that evenly divides the numbers without a remainder\n",
    "\n",
    "a = int(input(\"Enter num1 : \"))\n",
    "b = int(input(\"Enter num1 : \"))\n",
    "\n",
    "# lets find biggest number\n",
    "if a < b:\n",
    "    smaller = a\n",
    "else:\n",
    "    smaller = b\n",
    "hcf = 0   \n",
    "for i in range(1,smaller+1):\n",
    "    if a % i == 0 and b % i == 0 :\n",
    "        hcf = i\n",
    "    \n",
    "print(\"The hcf of {} and {} is {}\".format(a,b,hcf))"
   ]
  },
  {
   "cell_type": "markdown",
   "metadata": {},
   "source": [
    "### 3. Write a Python Program to Convert Decimal to Binary, Octal and Hexadecimal?\n"
   ]
  },
  {
   "cell_type": "code",
   "execution_count": 3,
   "metadata": {},
   "outputs": [
    {
     "name": "stdout",
     "output_type": "stream",
     "text": [
      "Enter number :120\n",
      "120 in binary :  0b1111000\n",
      "120 in Octal :  0o170\n",
      "120 in Hexadecimal :  0x78\n"
     ]
    }
   ],
   "source": [
    "num=int(input(\"Enter number :\"))\n",
    "\n",
    "print(num, \"in binary : \", bin(num))\n",
    "print(num, \"in Octal : \", oct(num))\n",
    "print(num, \"in Hexadecimal : \",hex(num))"
   ]
  },
  {
   "cell_type": "markdown",
   "metadata": {},
   "source": [
    "### 4. Write a Python Program To Find ASCII value of a character?\n"
   ]
  },
  {
   "cell_type": "code",
   "execution_count": 4,
   "metadata": {},
   "outputs": [
    {
     "name": "stdout",
     "output_type": "stream",
     "text": [
      "Enter a Charecter : b\n",
      "Ascii value of b is 98\n"
     ]
    }
   ],
   "source": [
    "str = input(\"Enter a Charecter : \")\n",
    "# ord gives the ASCII value of a character\n",
    "print(\"Ascii value of {} is {}\".format(str,ord(str)))\n"
   ]
  },
  {
   "cell_type": "markdown",
   "metadata": {},
   "source": [
    "### 5. Write a Python Program to Make a Simple Calculator with 4 basic mathematical operations?"
   ]
  },
  {
   "cell_type": "code",
   "execution_count": 5,
   "metadata": {},
   "outputs": [
    {
     "name": "stdout",
     "output_type": "stream",
     "text": [
      "Enter num1 :4\n",
      "Enter num2 :2\n",
      "Enter + for addition : \n",
      "Enter - for Subtraction :\n",
      "Enter * for multiplication :\n",
      "Enter / for division : /\n",
      "4.0 / 2.0 = 2.0\n"
     ]
    }
   ],
   "source": [
    "num1 = float(input(\"Enter num1 :\"))\n",
    "num2 = float(input(\"Enter num2 :\"))\n",
    "\n",
    "operation = input(\"Enter + for addition : \\nEnter - for Subtraction :\\nEnter * for multiplication :\\nEnter / for division : \")\n",
    "\n",
    "add = num1 + num2\n",
    "sub = num1 - num2\n",
    "mul = num1 * num2\n",
    "\n",
    "\n",
    "if operation == \"+\":\n",
    "    print(\"{} + {} = {}\".format(num1,num2,add))\n",
    "elif operation == \"-\":\n",
    "    print(\"{} - {} = {}\".format(num1,num2,sub))\n",
    "elif operation == \"*\":\n",
    "    print(\"{} * {} = {}\".format(num1,num2,mul))\n",
    "elif operation == \"/\":\n",
    "    if num1 == 0 or num2 == 0:\n",
    "        print(\"Division with zero is not possible\")\n",
    "    else:\n",
    "        div = num1 / num2\n",
    "        print(\"{} / {} = {}\".format(num1,num2,div))\n",
    "else:\n",
    "    print(\"Invalid input\")\n",
    "    \n"
   ]
  }
 ],
 "metadata": {
  "kernelspec": {
   "display_name": "Python 3",
   "language": "python",
   "name": "python3"
  },
  "language_info": {
   "codemirror_mode": {
    "name": "ipython",
    "version": 3
   },
   "file_extension": ".py",
   "mimetype": "text/x-python",
   "name": "python",
   "nbconvert_exporter": "python",
   "pygments_lexer": "ipython3",
   "version": "3.8.8"
  }
 },
 "nbformat": 4,
 "nbformat_minor": 4
}
