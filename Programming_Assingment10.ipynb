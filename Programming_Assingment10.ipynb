{
 "cells": [
  {
   "cell_type": "markdown",
   "metadata": {},
   "source": [
    "# Programming_Assingment10"
   ]
  },
  {
   "cell_type": "markdown",
   "metadata": {},
   "source": [
    "### 1. Write a Python program to find sum of elements in list?\n"
   ]
  },
  {
   "cell_type": "code",
   "execution_count": 1,
   "metadata": {},
   "outputs": [
    {
     "name": "stdout",
     "output_type": "stream",
     "text": [
      "Enter the lenth of your list : 5\n",
      "1\n",
      "3\n",
      "4\n",
      "5\n",
      "6\n",
      "The List is  [1, 3, 4, 5, 6]\n",
      "Sum of elements in List 19\n"
     ]
    }
   ],
   "source": [
    "n = int(input(\"Enter the lenth of your list : \"))\n",
    "lst = []\n",
    "\n",
    "for i in range(n):\n",
    "    lst.append(int(input()))\n",
    "print(\"The List is \",lst)\n",
    "print(\"Sum of elements in List\",sum(lst))"
   ]
  },
  {
   "cell_type": "markdown",
   "metadata": {},
   "source": [
    "### 2. Write a Python program to Multiply all numbers in the list?\n"
   ]
  },
  {
   "cell_type": "code",
   "execution_count": 2,
   "metadata": {},
   "outputs": [
    {
     "name": "stdout",
     "output_type": "stream",
     "text": [
      "Enter the lenth of your list : 5\n",
      "2\n",
      "4\n",
      "6\n",
      "8\n",
      "10\n",
      "The List is  [2, 4, 6, 8, 10]\n",
      "Product of elements in List is : 3840\n"
     ]
    }
   ],
   "source": [
    "n = int(input(\"Enter the lenth of your list : \"))\n",
    "lst = []\n",
    "\n",
    "for i in range(n):\n",
    "    lst.append(int(input()))\n",
    "print(\"The List is \",lst)\n",
    "product = 1\n",
    "for ele in lst:\n",
    "    product = product*ele\n",
    "print(\"Product of elements in List is :\",product)"
   ]
  },
  {
   "cell_type": "markdown",
   "metadata": {},
   "source": [
    "### 3. Write a Python program to find smallest number in a list?\n"
   ]
  },
  {
   "cell_type": "code",
   "execution_count": 3,
   "metadata": {},
   "outputs": [
    {
     "name": "stdout",
     "output_type": "stream",
     "text": [
      "Enter the lenth of your list : 2\n",
      "3\n",
      "2\n",
      "The List is  [3, 2]\n",
      "The Smallest element in the list is : 2\n"
     ]
    }
   ],
   "source": [
    "n = int(input(\"Enter the lenth of your list : \"))\n",
    "lst = []\n",
    "\n",
    "for i in range(n):\n",
    "    lst.append(int(input()))\n",
    "print(\"The List is \",lst)\n",
    "print(\"The Smallest element in the list is :\",min(lst))"
   ]
  },
  {
   "cell_type": "markdown",
   "metadata": {},
   "source": [
    "### 4. Write a Python program to find largest number in a list?\n"
   ]
  },
  {
   "cell_type": "code",
   "execution_count": 4,
   "metadata": {},
   "outputs": [
    {
     "name": "stdout",
     "output_type": "stream",
     "text": [
      "Enter the lenth of your list : 9\n",
      "1\n",
      "2\n",
      "3\n",
      "4\n",
      "5\n",
      "3\n",
      "5\n",
      "35\n",
      "8\n",
      "The List is  [1, 2, 3, 4, 5, 3, 5, 35, 8]\n",
      "The largest element in the list is : 35\n"
     ]
    }
   ],
   "source": [
    "n = int(input(\"Enter the lenth of your list : \"))\n",
    "lst = []\n",
    "\n",
    "for i in range(n):\n",
    "    lst.append(int(input()))\n",
    "print(\"The List is \",lst)\n",
    "print(\"The largest element in the list is :\",max(lst))"
   ]
  },
  {
   "cell_type": "markdown",
   "metadata": {},
   "source": [
    "### 5. Write a Python program to find second largest number in a list?\n"
   ]
  },
  {
   "cell_type": "code",
   "execution_count": 5,
   "metadata": {},
   "outputs": [
    {
     "name": "stdout",
     "output_type": "stream",
     "text": [
      "Enter the lenth of your list : 5\n",
      "2\n",
      "7\n",
      "45\n",
      "64\n",
      "77\n",
      "The List is  [2, 7, 45, 64, 77]\n",
      "The sorted list is  [2, 7, 45, 64, 77]\n",
      "The second largest element in the list is  64\n"
     ]
    }
   ],
   "source": [
    "n = int(input(\"Enter the lenth of your list : \"))\n",
    "lst = []\n",
    "\n",
    "for i in range(n):\n",
    "    lst.append(int(input()))\n",
    "print(\"The List is \",lst)\n",
    "lst.sort()\n",
    "print(\"The sorted list is \",lst)\n",
    "print(\"The second largest element in the list is \",lst[-2])"
   ]
  },
  {
   "cell_type": "markdown",
   "metadata": {},
   "source": [
    "### 6. Write a Python program to find N largest elements from a list?\n"
   ]
  },
  {
   "cell_type": "code",
   "execution_count": 6,
   "metadata": {},
   "outputs": [
    {
     "name": "stdout",
     "output_type": "stream",
     "text": [
      "Enter the lenth of your list : 6\n",
      "2\n",
      "56\n",
      "33\n",
      "55\n",
      "34\n",
      "78\n",
      "The List is  [2, 56, 33, 55, 34, 78]\n",
      "The sorted list is  [2, 33, 34, 55, 56, 78]\n",
      "Enter how many largest number u want to see in from the list :3\n",
      "3 largest elements from the list are : [55, 56, 78]\n"
     ]
    }
   ],
   "source": [
    "n = int(input(\"Enter the lenth of your list : \"))\n",
    "lst = []\n",
    "\n",
    "for i in range(n):\n",
    "    lst.append(int(input()))\n",
    "print(\"The List is \",lst)\n",
    "lst.sort()\n",
    "print(\"The sorted list is \",lst)\n",
    "nlargest = int(input(\"Enter how many largest number u want to see in from the list :\"))\n",
    "\n",
    "if n < nlargest :\n",
    "    print(\"enterted value is larger then that list length\")\n",
    "else:\n",
    "    print(nlargest,\"largest elements from the list are :\",lst[(n-nlargest):])\n"
   ]
  },
  {
   "cell_type": "markdown",
   "metadata": {},
   "source": [
    "### 7. Write a Python program to print even numbers in a list?\n"
   ]
  },
  {
   "cell_type": "code",
   "execution_count": 7,
   "metadata": {},
   "outputs": [
    {
     "name": "stdout",
     "output_type": "stream",
     "text": [
      "Enter the lenth of your list : 5\n",
      "2\n",
      "4\n",
      "2\n",
      "1\n",
      "1\n",
      "The List is  [2, 4, 2, 1, 1]\n",
      "The even numbers in the list are : [2, 4, 2]\n"
     ]
    }
   ],
   "source": [
    "n = int(input(\"Enter the lenth of your list : \"))\n",
    "lst = []\n",
    "\n",
    "for i in range(n):\n",
    "    lst.append(int(input()))\n",
    "print(\"The List is \",lst)\n",
    "evenlist =[]\n",
    "\n",
    "for i in lst:\n",
    "    if i % 2 == 0:\n",
    "        evenlist.append(i)\n",
    "print(\"The even numbers in the list are :\",evenlist)"
   ]
  },
  {
   "cell_type": "markdown",
   "metadata": {},
   "source": [
    "### 8. Write a Python program to print odd numbers in a List?\n"
   ]
  },
  {
   "cell_type": "code",
   "execution_count": 8,
   "metadata": {},
   "outputs": [
    {
     "name": "stdout",
     "output_type": "stream",
     "text": [
      "Enter the lenth of your list : 5\n",
      "1\n",
      "3\n",
      "2\n",
      "2\n",
      "2\n",
      "The List is  [1, 3, 2, 2, 2]\n",
      "The odd numbers in the list are : [1, 3]\n"
     ]
    }
   ],
   "source": [
    "n = int(input(\"Enter the lenth of your list : \"))\n",
    "lst = []\n",
    "\n",
    "for i in range(n):\n",
    "    lst.append(int(input()))\n",
    "print(\"The List is \",lst)\n",
    "oddlist =[]\n",
    "\n",
    "for i in lst:\n",
    "    if i % 2 != 0:\n",
    "        oddlist.append(i)\n",
    "print(\"The odd numbers in the list are :\",oddlist)"
   ]
  },
  {
   "cell_type": "markdown",
   "metadata": {},
   "source": [
    "### 9. Write a Python program to Remove empty List from List?\n"
   ]
  },
  {
   "cell_type": "code",
   "execution_count": 9,
   "metadata": {},
   "outputs": [
    {
     "name": "stdout",
     "output_type": "stream",
     "text": [
      "The List : [2, [], 4, 5, [], 6, 8, [], 3]\n",
      "The list after removing empty lists\n",
      "[2, 4, 5, 6, 8, 3]\n"
     ]
    }
   ],
   "source": [
    "lst = [2,[],4,5,[],6,8,[],3]\n",
    "print(\"The List :\",lst)\n",
    "removedlist = [ele for ele in lst if ele != []]\n",
    "print(\"The list after removing empty lists\")\n",
    "print(removedlist)"
   ]
  },
  {
   "cell_type": "markdown",
   "metadata": {},
   "source": [
    "### 10. Write a Python program to Cloning or Copying a list?\n"
   ]
  },
  {
   "cell_type": "code",
   "execution_count": 10,
   "metadata": {},
   "outputs": [
    {
     "name": "stdout",
     "output_type": "stream",
     "text": [
      "Enter the lenth of your list : 3\n",
      "1\n",
      "2\n",
      "3\n",
      "The List is  [1, 2, 3]\n",
      "The cloned/copied list :\n",
      "Cloning By list slicing lst[:]  [1, 2, 3]\n",
      "Cloning By list copying lst.copy()  [1, 2, 3]\n",
      "Cloning By list Comprahention  [1, 2, 3]\n",
      "Cloning By list append  [1, 2, 3]\n"
     ]
    }
   ],
   "source": [
    "n = int(input(\"Enter the lenth of your list : \"))\n",
    "lst = []\n",
    "\n",
    "for i in range(n):\n",
    "    lst.append(int(input()))\n",
    "print(\"The List is \",lst)\n",
    "\n",
    "print(\"The cloned/copied list :\")\n",
    "\n",
    "#Method 1\n",
    "lstcopy = lst[:]\n",
    "print(\"Cloning By list slicing lst[:] \",lstcopy)\n",
    "\n",
    "#method2\n",
    "lst2 = lst.copy()\n",
    "print(\"Cloning By list copying lst.copy() \",lst2)\n",
    "\n",
    "\n",
    "#Method3\n",
    "lstcomprah = [i for i in lst]\n",
    "print(\"Cloning By list Comprahention \",lstcomprah)\n",
    "\n",
    "\n",
    "#method4\n",
    "lstappend=[]\n",
    "for i in lst : lstappend.append(i)\n",
    "print(\"Cloning By list append \",lstappend)\n"
   ]
  },
  {
   "cell_type": "markdown",
   "metadata": {},
   "source": [
    "### 11. Write a Python program to Count occurrences of an element in a list?"
   ]
  },
  {
   "cell_type": "code",
   "execution_count": 11,
   "metadata": {},
   "outputs": [
    {
     "name": "stdout",
     "output_type": "stream",
     "text": [
      "Enter the lenth of your list : 5\n",
      "3\n",
      "4\n",
      "5\n",
      "2\n",
      "6\n",
      "The List is  [3, 4, 5, 2, 6]\n",
      "Enter the element to find its occurance : 3\n",
      "3 has occured 1 times in the list \n"
     ]
    }
   ],
   "source": [
    "n = int(input(\"Enter the lenth of your list : \"))\n",
    "lst = []\n",
    "\n",
    "for i in range(n):\n",
    "    lst.append(int(input()))\n",
    "print(\"The List is \",lst)\n",
    "ele= int(input(\"Enter the element to find its occurance : \"))\n",
    "print(ele,\"has occured {} times in the list \".format(lst.count(ele)))"
   ]
  },
  {
   "cell_type": "code",
   "execution_count": null,
   "metadata": {},
   "outputs": [],
   "source": []
  }
 ],
 "metadata": {
  "kernelspec": {
   "display_name": "Python 3",
   "language": "python",
   "name": "python3"
  },
  "language_info": {
   "codemirror_mode": {
    "name": "ipython",
    "version": 3
   },
   "file_extension": ".py",
   "mimetype": "text/x-python",
   "name": "python",
   "nbconvert_exporter": "python",
   "pygments_lexer": "ipython3",
   "version": "3.8.8"
  }
 },
 "nbformat": 4,
 "nbformat_minor": 4
}
