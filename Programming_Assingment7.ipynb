{
 "cells": [
  {
   "cell_type": "markdown",
   "metadata": {},
   "source": [
    "# Programming_Assingment7"
   ]
  },
  {
   "cell_type": "markdown",
   "metadata": {},
   "source": [
    "### 1. Write a Python Program to find sum of array?\n"
   ]
  },
  {
   "cell_type": "code",
   "execution_count": 1,
   "metadata": {},
   "outputs": [
    {
     "data": {
      "text/plain": [
       "45"
      ]
     },
     "execution_count": 1,
     "metadata": {},
     "output_type": "execute_result"
    }
   ],
   "source": [
    "#Solution 1\n",
    "lst = [1,2,3,4,5,6,7,8,9]\n",
    "sum(lst)"
   ]
  },
  {
   "cell_type": "code",
   "execution_count": 2,
   "metadata": {},
   "outputs": [
    {
     "name": "stdout",
     "output_type": "stream",
     "text": [
      "Sum is 45\n"
     ]
    }
   ],
   "source": [
    "#Solution 2\n",
    "sum =0\n",
    "lst = [1,2,3,4,5,6,7,8,9]\n",
    "for i in range(0,len(lst)):\n",
    "    sum+=lst[i]\n",
    "print(\"Sum is\",sum)\n",
    "    "
   ]
  },
  {
   "cell_type": "markdown",
   "metadata": {},
   "source": [
    "### 2. Write a Python Program to find largest element in an array?\n"
   ]
  },
  {
   "cell_type": "code",
   "execution_count": 3,
   "metadata": {},
   "outputs": [
    {
     "name": "stdout",
     "output_type": "stream",
     "text": [
      "lstgetst elemnt in the array [100, 240, 310, 67, 445, 9] is 445\n"
     ]
    }
   ],
   "source": [
    "#solution 1\n",
    "lst = [100,240,310,67,445,9]\n",
    "max(lst)\n",
    "print(\"lstgetst elemnt in the array {} is {}\".format(lst,max(lst)))"
   ]
  },
  {
   "cell_type": "code",
   "execution_count": 4,
   "metadata": {},
   "outputs": [
    {
     "name": "stdout",
     "output_type": "stream",
     "text": [
      "Largest element in the array [100, 240, 310, 67, 445, 9] is 445 \n"
     ]
    }
   ],
   "source": [
    "#Solution2\n",
    "lst = [100,240,310,67,445,9]\n",
    "big = 0\n",
    "for i in range(0,len(lst)):\n",
    "    if big < lst[i]:\n",
    "        big = lst[i]\n",
    "        \n",
    "print(\"Largest element in the array {} is {} \".format(lst,big))"
   ]
  },
  {
   "cell_type": "markdown",
   "metadata": {},
   "source": [
    "### 3. Write a Python Program for array rotation?\n"
   ]
  },
  {
   "cell_type": "code",
   "execution_count": 5,
   "metadata": {},
   "outputs": [
    {
     "name": "stdout",
     "output_type": "stream",
     "text": [
      "Enter the lenth of your list : 7\n",
      "1\n",
      "2\n",
      "3\n",
      "4\n",
      "5\n",
      "6\n",
      "7\n",
      "The List is  [1, 2, 3, 4, 5, 6, 7]\n",
      "Enter Rotation Right/Left : right\n",
      "Enter the number of elements to rotate < : 2\n",
      "After right rotation :  [6, 7, 1, 2, 3, 4, 5]\n"
     ]
    }
   ],
   "source": [
    "n = int(input(\"Enter the lenth of your list : \"))\n",
    "lst = []\n",
    "\n",
    "for i in range(n):\n",
    "    lst.append(int(input()))\n",
    "print(\"The List is \",lst)\n",
    "rotation = input(\"Enter Rotation Right/Left : \")\n",
    "nele = int(input(\"Enter the number of elements to rotate < : \"))\n",
    "if nele > n:\n",
    "    print(\"can not rotate as elements to rotate is larger then list lengh\")\n",
    "else:\n",
    "    rlst = []\n",
    "    if rotation.upper() == \"RIGHT\":\n",
    "        rlst[:] = lst[-nele:] + lst[:(n-nele)]\n",
    "        print(\"After right rotation : \",rlst)\n",
    "    elif rotation.upper() == \"LEFT\":\n",
    "        rlst[:] = lst[nele:n] + lst[:nele] \n",
    "        print(\"After Left rotation : \",rlst)\n",
    "    else:\n",
    "        print(\"Invalid Entry\")"
   ]
  },
  {
   "cell_type": "markdown",
   "metadata": {},
   "source": [
    "### 4. Write a Python Program to Split the array and add the first part to the end?\n"
   ]
  },
  {
   "cell_type": "code",
   "execution_count": 6,
   "metadata": {},
   "outputs": [
    {
     "name": "stdout",
     "output_type": "stream",
     "text": [
      "Enter the lenth of your list : 6\n",
      "1\n",
      "2\n",
      "3\n",
      "4\n",
      "5\n",
      "6\n",
      "The List is  [1, 2, 3, 4, 5, 6]\n",
      "Enter the number of elements to split < : 3\n",
      "The split list is : [1, 2, 3]\n",
      "The List after split and add : [4, 5, 6, 1, 2, 3]\n"
     ]
    }
   ],
   "source": [
    "n = int(input(\"Enter the lenth of your list : \"))\n",
    "lst = []\n",
    "\n",
    "for i in range(n):\n",
    "    lst.append(int(input()))\n",
    "print(\"The List is \",lst)\n",
    "\n",
    "nele = int(input(\"Enter the number of elements to split < : \"))\n",
    "if nele > n:\n",
    "    print(\"can not split as elements to split is larger then list lengh\")\n",
    "else:\n",
    "    print(\"The split list is :\",lst[:nele])\n",
    "    rlst[:] = lst[nele:n] + lst[:nele]\n",
    "    print(\"The List after split and add :\", rlst)"
   ]
  },
  {
   "cell_type": "markdown",
   "metadata": {},
   "source": [
    "###### 5. Write a Python Program to check if given array is Monotonic?\n",
    "    - An array is said to be monotonic in nature if it is either continuously increasing or continuously decreasing."
   ]
  },
  {
   "cell_type": "code",
   "execution_count": 7,
   "metadata": {},
   "outputs": [
    {
     "name": "stdout",
     "output_type": "stream",
     "text": [
      "Enter the lenth of your list : 8\n",
      "2\n",
      "4\n",
      "6\n",
      "2\n",
      "8\n",
      "9\n",
      "4\n",
      "2\n",
      "The List is  [2, 4, 6, 2, 8, 9, 4, 2]\n",
      "Not Monotonic\n"
     ]
    }
   ],
   "source": [
    "n = int(input(\"Enter the lenth of your list : \"))\n",
    "lst = []\n",
    "\n",
    "for i in range(n):\n",
    "    lst.append(int(input()))\n",
    "print(\"The List is \",lst)\n",
    "\n",
    "if all((lst[i] <= lst[i+1] for i in range(n-1)) or (lst[i] >= lst[i+1] for i in range(n-1))):\n",
    "    print(\"Monotonic\")\n",
    "else:\n",
    "    print(\"Not Monotonic\")"
   ]
  }
 ],
 "metadata": {
  "kernelspec": {
   "display_name": "Python 3",
   "language": "python",
   "name": "python3"
  },
  "language_info": {
   "codemirror_mode": {
    "name": "ipython",
    "version": 3
   },
   "file_extension": ".py",
   "mimetype": "text/x-python",
   "name": "python",
   "nbconvert_exporter": "python",
   "pygments_lexer": "ipython3",
   "version": "3.8.8"
  }
 },
 "nbformat": 4,
 "nbformat_minor": 4
}
