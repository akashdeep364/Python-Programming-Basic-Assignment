{
 "cells": [
  {
   "cell_type": "markdown",
   "metadata": {},
   "source": [
    "# Programming_Assingment13"
   ]
  },
  {
   "cell_type": "markdown",
   "metadata": {},
   "source": [
    "### Question 1:\n",
    "    Write a program that calculates and prints the value according to the given formula:\n",
    "        Q = Square root of [(2 * C * D)/H]\n",
    "        Following are the fixed values of C and H:\n",
    "        C is 50. H is 30.\n",
    "        D is the variable whose values should be input to your program in a comma-separated\n",
    "        sequence.\n",
    "        Example\n",
    "        Let us assume the following comma separated input sequence is given to the program:\n",
    "        100,150,180\n",
    "        The output of the program should be:\n",
    "        18,22,24\n",
    "\n"
   ]
  },
  {
   "cell_type": "code",
   "execution_count": 4,
   "metadata": {},
   "outputs": [
    {
     "name": "stdout",
     "output_type": "stream",
     "text": [
      "Provide D in with comma separated: 2,39,45\n",
      "3,11,12\n"
     ]
    }
   ],
   "source": [
    "import math\n",
    "\n",
    "numbers = input(\"Provide D in with comma separated: \")\n",
    "numbers = numbers.split(',')\n",
    "\n",
    "result_list = []\n",
    "result_string = ''\n",
    "for D in numbers:\n",
    "    Q = round(math.sqrt(2 * 50 * int(D) / 30))\n",
    "    result_list.append(str(Q))\n",
    "    \n",
    "print(','.join(result_list))\n"
   ]
  },
  {
   "cell_type": "markdown",
   "metadata": {},
   "source": [
    "### Question 2:\n",
    "    Write a program which takes 2 digits, X,Y as input and generates a 2-dimensional array. The\n",
    "    element value in the i-th row and j-th column of the array should be i*j.\n",
    "    Note: i=0,1.., X-1; j=0,1,¡Y-1.\n",
    "    Example\n",
    "    Suppose the following inputs are given to the program:\n",
    "    3,5\n",
    "    Then, the output of the program should be:\n",
    "    [[0, 0, 0, 0, 0], [0, 1, 2, 3, 4], [0, 2, 4, 6, 8]]\n",
    "\n"
   ]
  },
  {
   "cell_type": "code",
   "execution_count": 5,
   "metadata": {},
   "outputs": [
    {
     "name": "stdout",
     "output_type": "stream",
     "text": [
      "Enter x : 3\n",
      "enter y : 5\n",
      "Enter the element :\n"
     ]
    },
    {
     "data": {
      "text/plain": [
       "[[0, 0, 0, 0, 0], [0, 1, 2, 3, 4], [0, 2, 4, 6, 8]]"
      ]
     },
     "execution_count": 5,
     "metadata": {},
     "output_type": "execute_result"
    }
   ],
   "source": [
    "def createMatrix(n,m):\n",
    "    \n",
    "    M=[]             \n",
    "    print(\"Enter the element :\")\n",
    "    for i in range(n):\n",
    "        #stor row\n",
    "        row =[]\n",
    "        for j in range(m):\n",
    "            row.append(i*j)\n",
    "        M.append(row)\n",
    "    return(M)\n",
    "\n",
    "x = int(input(\"Enter x : \"))\n",
    "y = int(input(\"enter y : \"))\n",
    "createMatrix(x,y)\n"
   ]
  },
  {
   "cell_type": "markdown",
   "metadata": {},
   "source": [
    "### Question 3:\n",
    "    Write a program that accepts a comma separated sequence of words as input and prints the\n",
    "    words in a comma-separated sequence after sorting them alphabetically.\n",
    "    Suppose the following input is supplied to the program:\n",
    "    without,hello,bag,world\n",
    "    Then, the output should be:\n",
    "    bag,hello,without,world\n",
    "\n"
   ]
  },
  {
   "cell_type": "code",
   "execution_count": 4,
   "metadata": {},
   "outputs": [
    {
     "name": "stdout",
     "output_type": "stream",
     "text": [
      "Enter comma seperated words without,hello,bag,world\n",
      "bag,hello,without,world\n"
     ]
    }
   ],
   "source": [
    "items=[x for x in input('Enter comma seperated words ').split(',')]\n",
    "items.sort()    \n",
    "print(','.join(items))"
   ]
  },
  {
   "cell_type": "markdown",
   "metadata": {},
   "source": [
    "### Question 4:\n",
    "    Write a program that accepts a sequence of whitespace separated words as input and prints\n",
    "    the words after removing all duplicate words and sorting them alphanumerically.\n",
    "    Suppose the following input is supplied to the program:\n",
    "    hello world and practice makes perfect and hello world again\n",
    "    Then, the output should be:\n",
    "    again and hello makes perfect practice world\n",
    "\n"
   ]
  },
  {
   "cell_type": "code",
   "execution_count": 20,
   "metadata": {},
   "outputs": [
    {
     "name": "stdout",
     "output_type": "stream",
     "text": [
      "Enter space sepeated words hello world and practice makes perfect and hello world again\n",
      "again and hello makes perfect practice world\n"
     ]
    }
   ],
   "source": [
    "items=[x for x in input('Enter space sepeated words ').split(' ')]\n",
    "print(' '.join(sorted(list(set(items)))))"
   ]
  },
  {
   "cell_type": "markdown",
   "metadata": {},
   "source": [
    "### Question 5:\n",
    "    Write a program that accepts a sentence and calculate the number of letters and digits.\n",
    "    Suppose the following input is supplied to the program:\n",
    "    hello world! 123\n",
    "    Then, the output should be:\n",
    "    LETTERS 10\n",
    "    DIGITS 3\n",
    "\n"
   ]
  },
  {
   "cell_type": "code",
   "execution_count": 7,
   "metadata": {},
   "outputs": [
    {
     "name": "stdout",
     "output_type": "stream",
     "text": [
      "Input a string : akashdeep364\n",
      "Letters 9\n",
      "Digits 3\n"
     ]
    }
   ],
   "source": [
    "s = input(\"Input a string : \")\n",
    "digits=letters=0\n",
    "for c in s:\n",
    "    if c.isdigit():\n",
    "        digits += 1\n",
    "    elif c.isalpha():\n",
    "        letters += 1\n",
    "    else:\n",
    "        pass\n",
    "print(\"Letters\", letters)\n",
    "print(\"Digits\", digits)"
   ]
  },
  {
   "cell_type": "markdown",
   "metadata": {},
   "source": [
    "### Question 6:\n",
    "    A website requires the users to input username and password to register. Write a program to\n",
    "    check the validity of password input by users.\n",
    "    Following are the criteria for checking the password:\n",
    "    1. At least 1 letter between [a-z]\n",
    "    2. At least 1 number between [0-9]\n",
    "    1. At least 1 letter between [A-Z]\n",
    "    3. At least 1 character from [$#@]\n",
    "    4. Minimum length of transaction password: 6\n",
    "    5. Maximum length of transaction password: 12\n",
    "    Your program should accept a sequence of comma separated passwords and will check them\n",
    "    according to the above criteria. Passwords that match the criteria are to be printed, each\n",
    "    separated by a comma.\n",
    "    Example\n",
    "    If the following passwords are given as input to the program:\n",
    "    ABd1234@1,a F1#,2w3E*,2We3345\n",
    "    Then, the output of the program should be:\n",
    "    ABd1234@1"
   ]
  },
  {
   "cell_type": "code",
   "execution_count": 8,
   "metadata": {},
   "outputs": [
    {
     "name": "stdout",
     "output_type": "stream",
     "text": [
      "Enter your password : 123#dldjj\n",
      "Not a Valid Password\n"
     ]
    }
   ],
   "source": [
    "import re\n",
    "password= input(\"Enter your password : \")\n",
    "x = True\n",
    "while x:  \n",
    "    if (len(password) < 6 or len(password) > 12):\n",
    "        break\n",
    "    elif not re.search(\"[a-z]\",password):\n",
    "        break\n",
    "    elif not re.search(\"[0-9]\",password):\n",
    "        break\n",
    "    elif not re.search(\"[A-Z]\",password):\n",
    "        break\n",
    "    elif not re.search(\"[$#@]\",password):\n",
    "        break\n",
    "    elif re.search(\"\\s\",password):\n",
    "        break\n",
    "    else:\n",
    "        print(\"Valid Password\")\n",
    "        x=False\n",
    "        break\n",
    "\n",
    "if x:\n",
    "    print(\"Not a Valid Password\")"
   ]
  }
 ],
 "metadata": {
  "kernelspec": {
   "display_name": "Python 3",
   "language": "python",
   "name": "python3"
  },
  "language_info": {
   "codemirror_mode": {
    "name": "ipython",
    "version": 3
   },
   "file_extension": ".py",
   "mimetype": "text/x-python",
   "name": "python",
   "nbconvert_exporter": "python",
   "pygments_lexer": "ipython3",
   "version": "3.8.8"
  }
 },
 "nbformat": 4,
 "nbformat_minor": 4
}
